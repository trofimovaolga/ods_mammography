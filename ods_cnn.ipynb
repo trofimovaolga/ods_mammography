{
 "cells": [
  {
   "cell_type": "markdown",
   "id": "1645fca5",
   "metadata": {},
   "source": [
    "# Training a model using visualized tabular data"
   ]
  },
  {
   "cell_type": "code",
   "execution_count": 1,
   "id": "c856a5a7",
   "metadata": {
    "scrolled": true
   },
   "outputs": [],
   "source": [
    "# !pip install https://github.com/ufoym/imbalanced-dataset-sampler/archive/master.zip"
   ]
  },
  {
   "cell_type": "code",
   "execution_count": 2,
   "id": "a06e3aa2",
   "metadata": {},
   "outputs": [],
   "source": [
    "from torchsampler import ImbalancedDatasetSampler"
   ]
  },
  {
   "cell_type": "code",
   "execution_count": 3,
   "id": "35aa5031",
   "metadata": {},
   "outputs": [],
   "source": [
    "import matplotlib.pyplot as plt\n",
    "import numpy as np\n",
    "import pandas as pd\n",
    "\n",
    "from sklearn import metrics\n",
    "from sklearn.utils.multiclass import unique_labels\n",
    "from sklearn.model_selection import train_test_split\n",
    "\n",
    "import torch\n",
    "from torch.utils.data import Dataset\n",
    "from torch.utils.data import DataLoader\n",
    "import torch.nn as nn\n",
    "import torch.optim as optim\n",
    "import torchvision.transforms as transforms\n",
    "\n",
    "import timm\n",
    "\n",
    "import os\n",
    "from pathlib import Path\n",
    "import json\n",
    "\n",
    "from tqdm import tqdm\n",
    "\n",
    "import random"
   ]
  },
  {
   "cell_type": "code",
   "execution_count": 4,
   "id": "373205c6",
   "metadata": {},
   "outputs": [],
   "source": [
    "def set_seed(seed):\n",
    "    random.seed(seed)\n",
    "    np.random.seed(seed)\n",
    "    torch.manual_seed(seed)\n",
    "    torch.cuda.manual_seed(seed)\n",
    "    torch.backends.cudnn.deterministic = True\n",
    "\n",
    "set_seed(24)"
   ]
  },
  {
   "cell_type": "markdown",
   "id": "798ab028",
   "metadata": {},
   "source": [
    "Custom metrics."
   ]
  },
  {
   "cell_type": "code",
   "execution_count": 5,
   "id": "4bd1c945",
   "metadata": {},
   "outputs": [],
   "source": [
    "def macro_averaged_mean_absolute_error(y_true, y_pred):\n",
    "    labels = unique_labels(y_true, y_pred)\n",
    "    mae = []\n",
    "    for possible_class in labels:\n",
    "        indices = np.flatnonzero(y_true == possible_class)\n",
    "        mae.append(metrics.mean_absolute_error(y_true[indices], y_pred[indices],))\n",
    "\n",
    "    return np.sum(mae) / len(mae)\n",
    "\n",
    "def calculate_metrics(y_true, y_pred):    \n",
    "    y_true_arr = np.array(y_true)\n",
    "    y_pred_arr = np.array(y_pred)\n",
    "\n",
    "    if np.in1d(y_pred_arr, y_true_arr, invert=True).sum() > 0:\n",
    "        raise ValueError(\"There are non-existent labels in predictions\")\n",
    "\n",
    "    weights = np.array([1.0, 1.0, 1.5, 1.5, 1.5])\n",
    "    recall_multi = metrics.recall_score(y_true_arr, y_pred_arr, average=None)\n",
    "    weighted_accuracy = np.sum(np.multiply(recall_multi, weights)) / np.sum(weights)\n",
    "    mamae = macro_averaged_mean_absolute_error(y_true_arr, y_pred_arr)\n",
    "    return weighted_accuracy - 0.25 * mamae"
   ]
  },
  {
   "cell_type": "markdown",
   "id": "cefa2b80",
   "metadata": {},
   "source": [
    "Upload visualized tabular data prepared in ods_pic.ipynb."
   ]
  },
  {
   "cell_type": "code",
   "execution_count": 6,
   "id": "2ebfffb2",
   "metadata": {},
   "outputs": [],
   "source": [
    "targets_train = pd.read_csv(\"data_train/targets_train.csv\", index_col=0)\n",
    "train_dir = 'img_tensors'\n",
    "test_dir = 'test_img_tensors'"
   ]
  },
  {
   "cell_type": "markdown",
   "id": "c4b57159",
   "metadata": {},
   "source": [
    "Сheck that the images can be rendered correctly."
   ]
  },
  {
   "cell_type": "code",
   "execution_count": 7,
   "id": "31fd0962",
   "metadata": {},
   "outputs": [],
   "source": [
    "image = torch.load('{}/{}'.format(train_dir, os.listdir(train_dir)[0]))"
   ]
  },
  {
   "cell_type": "code",
   "execution_count": 8,
   "id": "2cd9feaf",
   "metadata": {},
   "outputs": [
    {
     "data": {
      "image/png": "[encoded data removed]",
      "text/plain": [
       "<Figure size 432x288 with 2 Axes>"
      ]
     },
     "metadata": {
      "needs_background": "light"
     },
     "output_type": "display_data"
    }
   ],
   "source": [
    "fig, (ax1, ax2) = plt.subplots(1, 2)\n",
    "ax1.imshow(image[26]);\n",
    "ax2.imshow(image[27]);"
   ]
  },
  {
   "cell_type": "markdown",
   "id": "34441240",
   "metadata": {},
   "source": [
    "Split the data to train (70%) and validation (30%) sets."
   ]
  },
  {
   "cell_type": "code",
   "execution_count": 9,
   "id": "a04e1c3e",
   "metadata": {},
   "outputs": [],
   "source": [
    "train_rows, valid_rows = train_test_split(targets_train, \n",
    "                                          test_size=0.3, \n",
    "                                          random_state=24, \n",
    "                                          shuffle=True, \n",
    "                                          stratify=targets_train)"
   ]
  },
  {
   "cell_type": "markdown",
   "id": "7652263d",
   "metadata": {},
   "source": [
    "Make sure both sets contain a data of each class."
   ]
  },
  {
   "cell_type": "code",
   "execution_count": 10,
   "id": "7720fa25",
   "metadata": {},
   "outputs": [
    {
     "data": {
      "text/plain": [
       "BiRads\n",
       "2         1693\n",
       "1         1043\n",
       "3           73\n",
       "4           31\n",
       "5            4\n",
       "dtype: int64"
      ]
     },
     "execution_count": 10,
     "metadata": {},
     "output_type": "execute_result"
    }
   ],
   "source": [
    "train_rows.value_counts()"
   ]
  },
  {
   "cell_type": "code",
   "execution_count": 11,
   "id": "cc9d42ab",
   "metadata": {},
   "outputs": [
    {
     "data": {
      "text/plain": [
       "BiRads\n",
       "2         726\n",
       "1         447\n",
       "3          31\n",
       "4          13\n",
       "5           2\n",
       "dtype: int64"
      ]
     },
     "execution_count": 11,
     "metadata": {},
     "output_type": "execute_result"
    }
   ],
   "source": [
    "valid_rows.value_counts()"
   ]
  },
  {
   "cell_type": "code",
   "execution_count": 12,
   "id": "c94cdf15",
   "metadata": {},
   "outputs": [],
   "source": [
    "class CustomImageDataset(Dataset):\n",
    "    def __init__(self, img_dir, annotations_file=None):\n",
    "        self.filenames = os.listdir(img_dir)\n",
    "        self.img_dir = img_dir\n",
    "        self.annotations_file = annotations_file\n",
    "\n",
    "    def __len__(self):\n",
    "        if self.annotations_file is not None:\n",
    "            return len(self.annotations_file['BiRads'])\n",
    "        else:\n",
    "            return len(self.filenames)\n",
    "\n",
    "    def __getitem__(self, idx):\n",
    "        if self.annotations_file is not None:         \n",
    "            filename = self.annotations_file.iloc[idx].name\n",
    "            label = self.annotations_file.loc[filename][0] - 1\n",
    "        else:\n",
    "            filename = self.filenames[idx][:-3]\n",
    "        \n",
    "        image = torch.load('{}/{}.pt'.format(self.img_dir, filename))\n",
    "        \n",
    "        if self.annotations_file is not None:            \n",
    "            return image, label\n",
    "        else:\n",
    "            return image, filename\n",
    "        \n",
    "    def get_labels(self):\n",
    "        return self.annotations_file[\"BiRads\"].to_numpy() - 1"
   ]
  },
  {
   "cell_type": "markdown",
   "id": "f4ca94ee",
   "metadata": {},
   "source": [
    "Define aug() function to create more data and avoid overfitting. By default it sets random 5 pixels to zero with 0.5 probability.\n",
    "\n",
    "It's only applied to channels starting from 3rd as first 3 channels are tissue_density_predicted, cancer_probability_predicted and laterality, which can't be changed."
   ]
  },
  {
   "cell_type": "code",
   "execution_count": 13,
   "id": "aed125db",
   "metadata": {},
   "outputs": [],
   "source": [
    "def aug(batch_tensor, p=0.5, num_changing=5):\n",
    "    pp = torch.rand(1)\n",
    "    if p >= pp:\n",
    "        zero_chan = ((batch_tensor.shape[1] - 3) * torch.rand(num_changing) + 3).long()\n",
    "        batch_tensor[:, zero_chan, :, :] = 0.0\n",
    "    return batch_tensor"
   ]
  },
  {
   "cell_type": "code",
   "execution_count": 14,
   "id": "e7aa83ad",
   "metadata": {},
   "outputs": [],
   "source": [
    "train_data = CustomImageDataset(train_dir, train_rows)\n",
    "valid_data = CustomImageDataset(train_dir, valid_rows)"
   ]
  },
  {
   "cell_type": "code",
   "execution_count": 15,
   "id": "7eddfa09",
   "metadata": {},
   "outputs": [],
   "source": [
    "batch_size = 25\n",
    "train_dataloader = DataLoader(train_data, \n",
    "                              sampler=ImbalancedDatasetSampler(train_data),\n",
    "                              batch_size=batch_size, \n",
    "                              shuffle=False, \n",
    "                              num_workers=2)\n",
    "valid_dataloader = DataLoader(valid_data, \n",
    "                              batch_size=batch_size, \n",
    "                              shuffle=False, \n",
    "                              num_workers=2)"
   ]
  },
  {
   "cell_type": "markdown",
   "id": "f86aa3ae",
   "metadata": {},
   "source": [
    "Using ResNet for training. The model inputs are images containing 46 channels, corresponding to 46 features. The number of outputs corresponds to the 5 Bi-Rads classes to be predicted."
   ]
  },
  {
   "cell_type": "code",
   "execution_count": 16,
   "id": "2b8d0c3f",
   "metadata": {},
   "outputs": [],
   "source": [
    "model = timm.create_model(\"resnet18\", num_classes=5, in_chans=46, pretrained=False)"
   ]
  },
  {
   "cell_type": "code",
   "execution_count": 17,
   "id": "d16a3853",
   "metadata": {},
   "outputs": [],
   "source": [
    "device = torch.device('cuda:0' if torch.cuda.is_available() else 'cpu')\n",
    "\n",
    "loss = nn.CrossEntropyLoss()\n",
    "optimizer = optim.Adam(model.parameters(), lr=3e-4)\n",
    "\n",
    "# Decay LR by a factor of 0.1 every 5 epochs\n",
    "scheduler = torch.optim.lr_scheduler.StepLR(optimizer, step_size=5, gamma=0.1)"
   ]
  },
  {
   "cell_type": "markdown",
   "id": "bb742fc1",
   "metadata": {},
   "source": [
    "The folowing is a training function. It saves the best (by custom_metrics) model as best_model.pt."
   ]
  },
  {
   "cell_type": "code",
   "execution_count": 18,
   "id": "9ee813c1",
   "metadata": {},
   "outputs": [],
   "source": [
    "def train_model(model, loss, optimizer, scheduler, num_epochs):\n",
    "    best_metric = -1000.0\n",
    "    for epoch in range(num_epochs):\n",
    "        print('Epoch {}/{}:'.format(epoch, num_epochs - 1), flush=True)\n",
    "\n",
    "        for phase in ['train', 'val']:\n",
    "            if phase == 'train':\n",
    "                dataloader = train_dataloader\n",
    "                model.train()\n",
    "                scheduler.step()        \n",
    "            else:\n",
    "                dataloader = valid_dataloader\n",
    "                model.eval()\n",
    "\n",
    "            running_loss, running_acc = 0.0, 0.0\n",
    "            y_pred, y_true = [], []\n",
    "            \n",
    "            for inputs, labels in dataloader:\n",
    "                inputs = inputs.to(device)\n",
    "                if phase == 'train':\n",
    "                    inputs = aug(inputs, p=0.9, num_changing=20)\n",
    "                labels = labels.to(device)\n",
    "                optimizer.zero_grad()\n",
    "\n",
    "                with torch.set_grad_enabled(phase == 'train'):\n",
    "                    preds = model(inputs)\n",
    "                    loss_value = loss(preds, labels)\n",
    "                    preds_class = preds.argmax(dim=1)\n",
    "\n",
    "                    if phase == 'train':\n",
    "                        loss_value.backward()\n",
    "                        optimizer.step()\n",
    "\n",
    "                # statistics\n",
    "                running_loss += loss_value.item()\n",
    "                running_acc += (preds_class == labels.data).float().mean()\n",
    "                \n",
    "                y_true.extend(labels.data.cpu().view(-1).numpy())\n",
    "                y_pred.extend(preds_class.cpu().numpy())\n",
    "                                \n",
    "            epoch_loss = running_loss / len(dataloader)\n",
    "            epoch_acc = running_acc / len(dataloader)\n",
    "            epoch_cust_metr = calculate_metrics(y_true, y_pred)\n",
    "            \n",
    "            if phase == 'train':\n",
    "                train_loss_history.append(epoch_loss)\n",
    "                train_accuracy_history.append(epoch_acc)\n",
    "                train_custom_metric_history.append(epoch_cust_metr)\n",
    "            else:\n",
    "                if epoch_cust_metr > best_metric:\n",
    "                    best_metric = epoch_cust_metr\n",
    "                    torch.save(model.state_dict(), \"/kaggle/working/best_model.pt\")\n",
    "                val_loss_history.append(epoch_loss)\n",
    "                val_accuracy_history.append(epoch_acc)\n",
    "                val_custom_metric_history.append(epoch_cust_metr)\n",
    "            \n",
    "            print('{} Loss: {:.4f} Acc: {:.4f}'.format(phase, epoch_loss, epoch_acc), flush=True)\n",
    "            print('Custom metric: ', epoch_cust_metr)\n",
    "    return model"
   ]
  },
  {
   "cell_type": "markdown",
   "id": "2ecee97b",
   "metadata": {},
   "source": [
    "The lists below will be filled out after training for further visualization of statistics."
   ]
  },
  {
   "cell_type": "code",
   "execution_count": 19,
   "id": "82a97857",
   "metadata": {},
   "outputs": [],
   "source": [
    "train_accuracy_history = []\n",
    "train_loss_history = []\n",
    "train_custom_metric_history = []\n",
    "val_accuracy_history = []\n",
    "val_loss_history = []\n",
    "val_custom_metric_history = []"
   ]
  },
  {
   "cell_type": "code",
   "execution_count": 20,
   "id": "2e989d71",
   "metadata": {},
   "outputs": [],
   "source": [
    "train_model(model, loss, optimizer, scheduler, num_epochs=30);"
   ]
  },
  {
   "cell_type": "code",
   "execution_count": 21,
   "id": "012e0715",
   "metadata": {},
   "outputs": [],
   "source": [
    "plt.plot(train_loss_history, label='train_loss')\n",
    "plt.plot(val_loss_history, label='val_loss')\n",
    "plt.legend(loc='upper right')\n",
    "plt.xlabel('epoch')"
   ]
  },
  {
   "cell_type": "code",
   "execution_count": 22,
   "id": "4ee92240",
   "metadata": {},
   "outputs": [],
   "source": [
    "plt.plot(train_accuracy_history, label='train_accuracy')\n",
    "plt.plot(val_accuracy_history, label='val_accuracy')\n",
    "plt.legend(loc='lower right')\n",
    "plt.xlabel('epoch')"
   ]
  },
  {
   "cell_type": "code",
   "execution_count": 23,
   "id": "68f654fd",
   "metadata": {},
   "outputs": [],
   "source": [
    "plt.plot(train_custom_metric_history, label='train_custom_metric')\n",
    "plt.plot(val_custom_metric_history, label='val_custom_metric')\n",
    "plt.legend(loc='upper left')\n",
    "plt.xlabel('epoch')"
   ]
  },
  {
   "cell_type": "markdown",
   "id": "c2523952",
   "metadata": {},
   "source": [
    "Load the best model saved before."
   ]
  },
  {
   "cell_type": "code",
   "execution_count": 25,
   "id": "1231d847",
   "metadata": {
    "scrolled": false
   },
   "outputs": [],
   "source": [
    "# model.load_state_dict(torch.load('best_model.pt'))\n",
    "# model = model.to(device)"
   ]
  },
  {
   "cell_type": "markdown",
   "id": "21b3ccb7",
   "metadata": {},
   "source": [
    "After the model is trained, preparing submission file."
   ]
  },
  {
   "cell_type": "code",
   "execution_count": 26,
   "id": "7b91ec39",
   "metadata": {},
   "outputs": [],
   "source": [
    "test_data = CustomImageDataset(test_dir)\n",
    "test_dataloader = DataLoader(test_data, \n",
    "                             batch_size=batch_size, \n",
    "                             shuffle=True, \n",
    "                             num_workers=2)"
   ]
  },
  {
   "cell_type": "code",
   "execution_count": null,
   "id": "c23314e6",
   "metadata": {},
   "outputs": [],
   "source": [
    "test_predictions = []\n",
    "test_img = []\n",
    "\n",
    "model.eval()\n",
    "\n",
    "for inputs, filename in tqdm(test_dataloader):\n",
    "    inputs = inputs.to(device)\n",
    "    with torch.set_grad_enabled(False):\n",
    "        preds = model(inputs)\n",
    "        preds_class = preds.argmax(dim=1)\n",
    "    test_predictions.append(preds_class.cpu().numpy())\n",
    "    test_img.extend(filename)\n",
    "test_predictions = np.concatenate(test_predictions)"
   ]
  },
  {
   "cell_type": "code",
   "execution_count": null,
   "id": "5b9cadef",
   "metadata": {},
   "outputs": [],
   "source": [
    "unique, counts = np.unique(test_predictions + 1, return_counts=True)\n",
    "print(np.asarray((unique, counts)).T)"
   ]
  },
  {
   "cell_type": "code",
   "execution_count": 29,
   "id": "aab8a950",
   "metadata": {},
   "outputs": [],
   "source": [
    "submission_df = pd.DataFrame.from_dict({'id': test_img, 'BiRads': test_predictions + 1})"
   ]
  },
  {
   "cell_type": "code",
   "execution_count": 30,
   "id": "b8857f92",
   "metadata": {},
   "outputs": [
    {
     "data": {
      "text/html": [
       "<div>\n",
       "<style scoped>\n",
       "    .dataframe tbody tr th:only-of-type {\n",
       "        vertical-align: middle;\n",
       "    }\n",
       "\n",
       "    .dataframe tbody tr th {\n",
       "        vertical-align: top;\n",
       "    }\n",
       "\n",
       "    .dataframe thead th {\n",
       "        text-align: right;\n",
       "    }\n",
       "</style>\n",
       "<table border=\"1\" class=\"dataframe\">\n",
       "  <thead>\n",
       "    <tr style=\"text-align: right;\">\n",
       "      <th></th>\n",
       "      <th>id</th>\n",
       "      <th>BiRads</th>\n",
       "    </tr>\n",
       "  </thead>\n",
       "  <tbody>\n",
       "    <tr>\n",
       "      <th>0</th>\n",
       "      <td>0a0fafbb-741c-4ce4-8858-869fc1962f7d</td>\n",
       "      <td>1</td>\n",
       "    </tr>\n",
       "    <tr>\n",
       "      <th>1</th>\n",
       "      <td>0a3bdee6-7be6-401f-93a5-62060fa6d7d1</td>\n",
       "      <td>3</td>\n",
       "    </tr>\n",
       "    <tr>\n",
       "      <th>2</th>\n",
       "      <td>0a70bed8-2839-4a1e-beb1-783fc3e61af8</td>\n",
       "      <td>3</td>\n",
       "    </tr>\n",
       "    <tr>\n",
       "      <th>3</th>\n",
       "      <td>0a8e4353-f070-46fd-99b8-8f9dd78ee4fa</td>\n",
       "      <td>1</td>\n",
       "    </tr>\n",
       "    <tr>\n",
       "      <th>4</th>\n",
       "      <td>0a673d69-7ff1-42c8-8063-ea01eb905d38</td>\n",
       "      <td>4</td>\n",
       "    </tr>\n",
       "  </tbody>\n",
       "</table>\n",
       "</div>"
      ],
      "text/plain": [
       "                                     id  BiRads\n",
       "0  0a0fafbb-741c-4ce4-8858-869fc1962f7d       1\n",
       "1  0a3bdee6-7be6-401f-93a5-62060fa6d7d1       3\n",
       "2  0a70bed8-2839-4a1e-beb1-783fc3e61af8       3\n",
       "3  0a8e4353-f070-46fd-99b8-8f9dd78ee4fa       1\n",
       "4  0a673d69-7ff1-42c8-8063-ea01eb905d38       4"
      ]
     },
     "execution_count": 30,
     "metadata": {},
     "output_type": "execute_result"
    }
   ],
   "source": [
    "submission_df.head()"
   ]
  },
  {
   "cell_type": "code",
   "execution_count": null,
   "id": "f3ee6727",
   "metadata": {},
   "outputs": [],
   "source": []
  },
  {
   "cell_type": "code",
   "execution_count": null,
   "id": "b3bc8367",
   "metadata": {},
   "outputs": [],
   "source": []
  }
 ],
 "metadata": {
  "kernelspec": {
   "display_name": "Python 3",
   "language": "python",
   "name": "python3"
  },
  "language_info": {
   "codemirror_mode": {
    "name": "ipython",
    "version": 3
   },
   "file_extension": ".py",
   "mimetype": "text/x-python",
   "name": "python",
   "nbconvert_exporter": "python",
   "pygments_lexer": "ipython3",
   "version": "3.8.8"
  }
 },
 "nbformat": 4,
 "nbformat_minor": 5
}
